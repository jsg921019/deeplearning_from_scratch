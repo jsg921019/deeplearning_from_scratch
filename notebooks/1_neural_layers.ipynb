{
 "cells": [
  {
   "cell_type": "code",
   "execution_count": 1,
   "metadata": {},
   "outputs": [],
   "source": [
    "import numpy as np\n",
    "import matplotlib.pyplot as plt\n",
    "plt.style.use('seaborn')"
   ]
  },
  {
   "cell_type": "markdown",
   "metadata": {},
   "source": [
    "## Ⅰ. Perceptron"
   ]
  },
  {
   "cell_type": "markdown",
   "metadata": {},
   "source": [
    "* 퍼셉트론은 다수의 입력값을 받아 하나의 출력값을(1 또는 0)를 전달.\n",
    "\n",
    "![](../img/perceptron.PNG)\n",
    "\n",
    "$\n",
    "\\mathbf{y} =\n",
    "  \\begin{cases}\n",
    "    0        & \\quad (\\mathbf{w}^T \\cdot \\mathbf{x} + \\mathbf{b} \\leq 0) \\\\\n",
    "    1  & \\quad (\\mathbf{w}^T \\cdot \\mathbf{x} + \\mathbf{b} \\gt 0)\n",
    "  \\end{cases}\n",
    "$\n",
    "\n",
    "$\n",
    "\\mathbf{x} \\text{ : input vector} \\\\\n",
    "\\mathbf{y} \\text{ : output} \\\\\n",
    "\\mathbf{w} \\text{ : weight, input에 주는 영향력} \\\\\n",
    "\\mathbf{b} \\text{ : bias, 얼마나 쉽게 활성화 되는지}$"
   ]
  },
  {
   "cell_type": "markdown",
   "metadata": {},
   "source": [
    "### 1. AND Gate"
   ]
  },
  {
   "cell_type": "code",
   "execution_count": 2,
   "metadata": {},
   "outputs": [
    {
     "name": "stdout",
     "output_type": "stream",
     "text": [
      "AND([0, 0]) = 0\n",
      "AND([0, 1]) = 0\n",
      "AND([1, 0]) = 0\n",
      "AND([1, 1]) = 1\n"
     ]
    }
   ],
   "source": [
    "def AND(x):\n",
    "    w = [1.0, 1.0]\n",
    "    b = -1.0\n",
    "    return int(np.dot(x, w) +b > 0)\n",
    "\n",
    "for x in [[0,0], [0,1], [1,0], [1,1]]:\n",
    "    print(f'AND({x}) = {AND(x)}')"
   ]
  },
  {
   "cell_type": "markdown",
   "metadata": {},
   "source": [
    "### 2. NAND Gate"
   ]
  },
  {
   "cell_type": "code",
   "execution_count": 3,
   "metadata": {},
   "outputs": [
    {
     "name": "stdout",
     "output_type": "stream",
     "text": [
      "NAND([0, 0]) = 1\n",
      "NAND([0, 1]) = 1\n",
      "NAND([1, 0]) = 1\n",
      "NAND([1, 1]) = 0\n"
     ]
    }
   ],
   "source": [
    "def NAND(x):\n",
    "    w = [-1.0, -1.0]\n",
    "    b = 2.0\n",
    "    return int(np.dot(x, w) + b > 0)\n",
    "\n",
    "for x in [[0,0], [0,1], [1,0], [1,1]]:\n",
    "    print(f'NAND({x}) = {NAND(x)}')"
   ]
  },
  {
   "cell_type": "markdown",
   "metadata": {},
   "source": [
    "### 3. OR Gate"
   ]
  },
  {
   "cell_type": "code",
   "execution_count": 4,
   "metadata": {},
   "outputs": [
    {
     "name": "stdout",
     "output_type": "stream",
     "text": [
      "OR([0, 0]) = 0\n",
      "OR([0, 1]) = 1\n",
      "OR([1, 0]) = 1\n",
      "OR([1, 1]) = 1\n"
     ]
    }
   ],
   "source": [
    "def OR(x):\n",
    "    w = [1.0, 1.0]\n",
    "    b = - 0.5\n",
    "    return int(np.dot(x, w) + b > 0)\n",
    "\n",
    "for x in [[0,0], [0,1], [1,0], [1,1]]:\n",
    "    print(f'OR({x}) = {OR(x)}')"
   ]
  },
  {
   "cell_type": "markdown",
   "metadata": {},
   "source": [
    "### 4. XOR Gate\n",
    "\n",
    "* 단층 퍼셉트론으로 AND, NAND, OR 게이트는 구현 가능하지만, XOR 게이트는 구현할 수 없음\n",
    "<img src=\"../img/or-vs-xor.png\" width=\"60%\" height=\"60%\"/>\n",
    "  \n",
    "  \n",
    "* 다층 퍼센트론 으로 XOR 게이트를 구현할 수 있다.\n",
    "<img src=\"../img/xor_gate2.png\" width=\"30%\" height=\"20%\"/>"
   ]
  },
  {
   "cell_type": "code",
   "execution_count": 5,
   "metadata": {},
   "outputs": [
    {
     "name": "stdout",
     "output_type": "stream",
     "text": [
      "XOR([0, 0]) = 0\n",
      "XOR([0, 1]) = 1\n",
      "XOR([1, 0]) = 1\n",
      "XOR([1, 1]) = 0\n"
     ]
    }
   ],
   "source": [
    "def XOR(x):\n",
    "    return AND([OR(x), NAND(x)])\n",
    "\n",
    "for x in [[0,0], [0,1], [1,0], [1,1]]:\n",
    "    print(f'XOR({x}) = {XOR(x)}')"
   ]
  },
  {
   "cell_type": "markdown",
   "metadata": {},
   "source": [
    "## Ⅱ. Activation function"
   ]
  },
  {
   "cell_type": "markdown",
   "metadata": {},
   "source": [
    "* 출력 신호의 총합을 출력 신호로 변환하는 함수\n",
    "\n",
    "<img src=\"../img/3-04.png\" width=\"20%\" height=\"20%\"/>"
   ]
  },
  {
   "cell_type": "markdown",
   "metadata": {},
   "source": [
    "### 1. step function"
   ]
  },
  {
   "cell_type": "markdown",
   "metadata": {},
   "source": [
    "$$\n",
    "y =\n",
    "  \\begin{cases}\n",
    "    0        & \\quad (x \\leq 0) \\\\\n",
    "    1  & \\quad (x \\gt 0)\n",
    "  \\end{cases}\n",
    "$$"
   ]
  },
  {
   "cell_type": "code",
   "execution_count": 6,
   "metadata": {},
   "outputs": [
    {
     "data": {
      "image/png": "[encoded data removed]",
      "text/plain": [
       "<Figure size 576x396 with 1 Axes>"
      ]
     },
     "metadata": {},
     "output_type": "display_data"
    }
   ],
   "source": [
    "def step_function(x):\n",
    "    return np.array(x > 0, dtype=np.int)\n",
    "\n",
    "x = np.linspace(-10, 10, 100)\n",
    "y = step_function(x)\n",
    "\n",
    "plt.plot(x, y)\n",
    "plt.show()"
   ]
  },
  {
   "cell_type": "markdown",
   "metadata": {},
   "source": [
    "### 2. sigmoid function"
   ]
  },
  {
   "cell_type": "markdown",
   "metadata": {},
   "source": [
    "$$\n",
    "y = \\frac{1}{1 + e^{-x}}\n",
    "$$"
   ]
  },
  {
   "cell_type": "code",
   "execution_count": 7,
   "metadata": {},
   "outputs": [
    {
     "data": {
      "image/png": "[encoded data removed]",
      "text/plain": [
       "<Figure size 576x396 with 1 Axes>"
      ]
     },
     "metadata": {},
     "output_type": "display_data"
    }
   ],
   "source": [
    "def sigmoid(x):\n",
    "    return 1 / (1 + np.exp(-x))\n",
    "\n",
    "x = np.linspace(-10, 10, 100)\n",
    "y = sigmoid(x)\n",
    "\n",
    "plt.plot(x, y)\n",
    "plt.show()"
   ]
  },
  {
   "cell_type": "markdown",
   "metadata": {},
   "source": [
    "### 3. ReLU function"
   ]
  },
  {
   "cell_type": "markdown",
   "metadata": {},
   "source": [
    "$$\n",
    "y =\n",
    "  \\begin{cases}\n",
    "    0  & \\quad (x \\leq 0) \\\\\n",
    "    x  & \\quad (x \\gt 0)\n",
    "  \\end{cases}\n",
    "$$"
   ]
  },
  {
   "cell_type": "code",
   "execution_count": 8,
   "metadata": {},
   "outputs": [
    {
     "data": {
      "image/png": "[encoded data removed]",
      "text/plain": [
       "<Figure size 576x396 with 1 Axes>"
      ]
     },
     "metadata": {},
     "output_type": "display_data"
    }
   ],
   "source": [
    "def ReLU(x):\n",
    "    return np.maximum(0, x)\n",
    "\n",
    "x = np.linspace(-10, 10, 100)\n",
    "y = ReLU(x)\n",
    "\n",
    "plt.plot(x, y)\n",
    "plt.show()"
   ]
  },
  {
   "cell_type": "markdown",
   "metadata": {},
   "source": [
    "## Ⅲ. Activation function of output layer"
   ]
  },
  {
   "cell_type": "markdown",
   "metadata": {},
   "source": [
    "### 1. regression : identity function"
   ]
  },
  {
   "cell_type": "code",
   "execution_count": 9,
   "metadata": {},
   "outputs": [
    {
     "data": {
      "text/plain": [
       "[1, 4, 8]"
      ]
     },
     "execution_count": 9,
     "metadata": {},
     "output_type": "execute_result"
    }
   ],
   "source": [
    "def identity(x):\n",
    "    return x\n",
    "\n",
    "identity([1, 4, 8])"
   ]
  },
  {
   "cell_type": "markdown",
   "metadata": {},
   "source": [
    "### 2. classification : softmax function"
   ]
  },
  {
   "cell_type": "markdown",
   "metadata": {},
   "source": [
    "$$\n",
    "y_k = \\frac{\\displaystyle\\text{exp}(a_k)}{\\displaystyle\\sum_{i=1}^{n}\\text{exp}(a_i)}\n",
    "$$"
   ]
  },
  {
   "cell_type": "code",
   "execution_count": 10,
   "metadata": {
    "scrolled": true
   },
   "outputs": [
    {
     "data": {
      "text/plain": [
       "array([8.94679497e-04, 1.79701181e-02, 9.81135202e-01])"
      ]
     },
     "execution_count": 10,
     "metadata": {},
     "output_type": "execute_result"
    }
   ],
   "source": [
    "def bad_softmax(x):\n",
    "    exp = np.exp(x)\n",
    "    return exp/exp.sum()\n",
    "\n",
    "bad_softmax([1, 4, 8])"
   ]
  },
  {
   "cell_type": "markdown",
   "metadata": {},
   "source": [
    "> 하지만 위의 계산 방식은 오버플로우에 취약함"
   ]
  },
  {
   "cell_type": "code",
   "execution_count": 11,
   "metadata": {
    "scrolled": true
   },
   "outputs": [
    {
     "name": "stderr",
     "output_type": "stream",
     "text": [
      "/home/jsg/anaconda3/envs/tf2/lib/python3.7/site-packages/ipykernel_launcher.py:2: RuntimeWarning: overflow encountered in exp\n",
      "  \n",
      "/home/jsg/anaconda3/envs/tf2/lib/python3.7/site-packages/ipykernel_launcher.py:3: RuntimeWarning: invalid value encountered in true_divide\n",
      "  This is separate from the ipykernel package so we can avoid doing imports until\n"
     ]
    },
    {
     "data": {
      "text/plain": [
       "array([nan, nan, nan])"
      ]
     },
     "execution_count": 11,
     "metadata": {},
     "output_type": "execute_result"
    }
   ],
   "source": [
    "bad_softmax([1010, 1000, 990])"
   ]
  },
  {
   "cell_type": "code",
   "execution_count": 12,
   "metadata": {},
   "outputs": [
    {
     "data": {
      "text/plain": [
       "array([9.99954600e-01, 4.53978686e-05, 2.06106005e-09])"
      ]
     },
     "execution_count": 12,
     "metadata": {},
     "output_type": "execute_result"
    }
   ],
   "source": [
    "def softmax(x):\n",
    "    max_x = np.max(x)\n",
    "    exp = np.exp(x - max_x)\n",
    "    return exp/exp.sum()\n",
    "\n",
    "softmax([1010, 1000, 990])"
   ]
  },
  {
   "cell_type": "markdown",
   "metadata": {},
   "source": [
    "> 소프트맥스 함수는 원소의 대소 관계를 변화시키지 않기 때문에 loss계산에만 쓰고 predict에선 생략가능"
   ]
  },
  {
   "cell_type": "markdown",
   "metadata": {},
   "source": [
    "## Ⅳ. 신경망 구현"
   ]
  },
  {
   "cell_type": "markdown",
   "metadata": {},
   "source": [
    "<img src=\"../img/3-15.png\" width=\"50%\" height=\"50%\"/>"
   ]
  },
  {
   "cell_type": "markdown",
   "metadata": {},
   "source": [
    "### 1. single layer"
   ]
  },
  {
   "cell_type": "markdown",
   "metadata": {},
   "source": [
    "$$\n",
    "\\mathbf{y} = \\text{h} \\, (\\mathbf{x \\cdot W} + \\mathbf{b})\n",
    "$$"
   ]
  },
  {
   "cell_type": "code",
   "execution_count": 13,
   "metadata": {},
   "outputs": [
    {
     "data": {
      "text/plain": [
       "array([0.57444252, 0.66818777, 0.75026011])"
      ]
     },
     "execution_count": 13,
     "metadata": {},
     "output_type": "execute_result"
    }
   ],
   "source": [
    "class LinearLayer:\n",
    "    \n",
    "    def __init__(self, w, b):\n",
    "        self.w = np.array(w)\n",
    "        self.b = np.array(b)\n",
    "\n",
    "    def forward(self, x):\n",
    "        return np.dot(x, self.w) + self.b\n",
    "\n",
    "x = [1.0, 0.5]\n",
    "w = [[0.1, 0.3, 0.5],\n",
    "     [0.2, 0.4, 0.6]]\n",
    "b = [0.1, 0.2, 0.3]\n",
    "\n",
    "linear = LinearLayer(w, b)\n",
    "sigmoid(linear.forward(x))"
   ]
  },
  {
   "cell_type": "markdown",
   "metadata": {},
   "source": [
    "### 2. multi layers"
   ]
  },
  {
   "cell_type": "code",
   "execution_count": 14,
   "metadata": {},
   "outputs": [
    {
     "data": {
      "text/plain": [
       "array([0.31682708, 0.69627909])"
      ]
     },
     "execution_count": 14,
     "metadata": {},
     "output_type": "execute_result"
    }
   ],
   "source": [
    "class NeuralNetwork:\n",
    "\n",
    "    def __init__(self):\n",
    "        self.layer1 = LinearLayer([[0.1, 0.3, 0.5], [0.2, 0.4, 0.6]], [0.1, 0.2, 0.3])\n",
    "        self.layer2 = LinearLayer([[0.1, 0.4], [0.2, 0.5], [0.3, 0.6]], [0.1, 0.2])\n",
    "        self.layer3 = LinearLayer([[0.1, 0.3], [0.2, 0.4]], [0.1, 0.2])\n",
    "\n",
    "    def forward(self, x):\n",
    "        output = sigmoid(self.layer1.forward(x))\n",
    "        output = sigmoid(self.layer2.forward(output))\n",
    "        output = self.layer3.forward(output)\n",
    "        return output\n",
    "\n",
    "nn = NeuralNetwork()\n",
    "nn.forward([1.0, 0.5])"
   ]
  },
  {
   "cell_type": "markdown",
   "metadata": {},
   "source": [
    "## Ⅴ. Batch"
   ]
  },
  {
   "cell_type": "markdown",
   "metadata": {},
   "source": [
    "* 입력이 한개\n",
    "\n",
    "<img src=\"../img/3-26.png\" width=\"50%\" height=\"50%\"/>\n",
    "\n",
    "* 입력이 여러개 (배치)\n",
    "\n",
    "<img src=\"../img/3-27.png\" width=\"50%\" height=\"50%\"/>"
   ]
  },
  {
   "cell_type": "markdown",
   "metadata": {},
   "source": [
    "## Ⅵ. MNIST 데이터셋에 적용"
   ]
  },
  {
   "cell_type": "code",
   "execution_count": 15,
   "metadata": {},
   "outputs": [],
   "source": [
    "import sys, os, pickle\n",
    "sys.path.append(os.pardir)\n",
    "from dataset.mnist import load_mnist"
   ]
  },
  {
   "cell_type": "code",
   "execution_count": 16,
   "metadata": {},
   "outputs": [
    {
     "data": {
      "text/plain": [
       "<matplotlib.image.AxesImage at 0x7fe498b1dbd0>"
      ]
     },
     "execution_count": 16,
     "metadata": {},
     "output_type": "execute_result"
    },
    {
     "data": {
      "image/png": "[encoded data removed]",
      "text/plain": [
       "<Figure size 216x216 with 1 Axes>"
      ]
     },
     "metadata": {},
     "output_type": "display_data"
    }
   ],
   "source": [
    "(x_train, t_train), (x_test, t_test) = load_mnist(flatten=True, normalize=True)\n",
    "\n",
    "plt.figure(figsize=(3, 3))\n",
    "plt.axis('off')\n",
    "img = x_train[0].reshape(28, 28)\n",
    "plt.imshow(img, 'gray')"
   ]
  },
  {
   "cell_type": "code",
   "execution_count": 17,
   "metadata": {},
   "outputs": [],
   "source": [
    "class MnistClassifier():\n",
    "    \n",
    "    def __init__(self):\n",
    "        with open('../dataset/sample_weight.pkl', 'rb') as f:\n",
    "            weights = pickle.load(f)\n",
    "        self.linear1 = LinearLayer(weights['W1'], weights['b1'])\n",
    "        self.linear2 = LinearLayer(weights['W2'], weights['b2'])\n",
    "        self.linear3 = LinearLayer(weights['W3'], weights['b3'])\n",
    "    \n",
    "    def forward(self, x):\n",
    "        output = sigmoid(self.linear1.forward(x))\n",
    "        output = sigmoid(self.linear2.forward(output))\n",
    "        output = softmax(self.linear3.forward(output))\n",
    "        return output"
   ]
  },
  {
   "cell_type": "markdown",
   "metadata": {},
   "source": [
    "<img src=\"../img/mnist_nn.png\" width=\"50%\" height=\"50%\"/>"
   ]
  },
  {
   "cell_type": "code",
   "execution_count": 18,
   "metadata": {},
   "outputs": [
    {
     "name": "stdout",
     "output_type": "stream",
     "text": [
      "Accuracy : 0.935\n"
     ]
    }
   ],
   "source": [
    "clf = MnistClassifier()\n",
    "\n",
    "batch_size = 100\n",
    "correct = 0\n",
    "\n",
    "for i in range(0, len(x_test), batch_size):\n",
    "    X, y = x_test[i:i+batch_size], t_test[i:i+batch_size]\n",
    "    y_pred = np.argmax(clf.forward(X), axis = 1)\n",
    "    correct += np.sum(y == y_pred)\n",
    "\n",
    "print(f'Accuracy : {correct/len(x_test):.3f}')"
   ]
  },
  {
   "cell_type": "markdown",
   "metadata": {},
   "source": [
    "## Ⅶ. Loss Function"
   ]
  },
  {
   "cell_type": "markdown",
   "metadata": {},
   "source": [
    "* 신경망 성능의 나쁨을 나타내는 지표"
   ]
  },
  {
   "cell_type": "markdown",
   "metadata": {},
   "source": [
    "### 1. Mean Squared Error"
   ]
  },
  {
   "cell_type": "markdown",
   "metadata": {},
   "source": [
    "$$\n",
    "E = \\frac{1}{2N}\\displaystyle\\sum_n\\sum_k (y_k - t_k )^2\n",
    "$$"
   ]
  },
  {
   "cell_type": "code",
   "execution_count": 19,
   "metadata": {},
   "outputs": [
    {
     "data": {
      "text/plain": [
       "0.09750000000000003"
      ]
     },
     "execution_count": 19,
     "metadata": {},
     "output_type": "execute_result"
    }
   ],
   "source": [
    "def MSE(y, t):\n",
    "    return 0.5 * np.sum((y-t)**2)\n",
    "\n",
    "MSE(np.array([0.1, 0.05, 0.6, 0.0, 0.05, 0.1, 0.0, 0.1, 0.0, 0.0]),\n",
    "    np.array([0, 0, 1, 0, 0, 0, 0, 0, 0, 0]))"
   ]
  },
  {
   "cell_type": "markdown",
   "metadata": {},
   "source": [
    "### 2. Cross Entropy Error"
   ]
  },
  {
   "cell_type": "markdown",
   "metadata": {},
   "source": [
    "$$\n",
    "E = -\\frac{1}{N}\\displaystyle \\sum_n \\sum_k t_k \\log y_k\n",
    "$$"
   ]
  },
  {
   "cell_type": "code",
   "execution_count": 20,
   "metadata": {},
   "outputs": [
    {
     "data": {
      "text/plain": [
       "0.510825457099338"
      ]
     },
     "execution_count": 20,
     "metadata": {},
     "output_type": "execute_result"
    }
   ],
   "source": [
    "def CrossEntropyOneHotEncoded(y, t):\n",
    "    if y.ndim == 1:\n",
    "        y, t = y.reshape(1,-1), t.reshape(1, -1)\n",
    "    \n",
    "    delta = 1e-7 # log가 무한으로 발산하지 않게 하기 위한\n",
    "    batch_size = y.shape[0]\n",
    "    return -np.sum(t*np.log(y+delta)) / batch_size\n",
    "\n",
    "CrossEntropyOneHotEncoded(np.array([0.1, 0.05, 0.6, 0.0, 0.05, 0.1, 0.0, 0.1, 0.0, 0.0]),\n",
    "    np.array([0, 0, 1, 0, 0, 0, 0, 0, 0, 0]))"
   ]
  },
  {
   "cell_type": "code",
   "execution_count": 21,
   "metadata": {},
   "outputs": [
    {
     "data": {
      "text/plain": [
       "0.510825457099338"
      ]
     },
     "execution_count": 21,
     "metadata": {},
     "output_type": "execute_result"
    }
   ],
   "source": [
    "def CrossEntropy(y, t):\n",
    "    if y.ndim == 1:\n",
    "        y, t = y.reshape(1,-1), t.reshape(1, -1)\n",
    "    \n",
    "    delta = 1e-7 # log가 무한으로 발산하지 않게 하기 위한\n",
    "    batch_size = y.shape[0]\n",
    "    return -np.sum((np.eye(y.shape[-1])[t])*np.log(y+delta)) / batch_size\n",
    "\n",
    "CrossEntropy(np.array([0.1, 0.05, 0.6, 0.0, 0.05, 0.1, 0.0, 0.1, 0.0, 0.0]),\n",
    "    np.array(2))"
   ]
  }
 ],
 "metadata": {
  "kernelspec": {
   "display_name": "tf2",
   "language": "python",
   "name": "tf2"
  },
  "language_info": {
   "codemirror_mode": {
    "name": "ipython",
    "version": 3
   },
   "file_extension": ".py",
   "mimetype": "text/x-python",
   "name": "python",
   "nbconvert_exporter": "python",
   "pygments_lexer": "ipython3",
   "version": "3.7.10"
  }
 },
 "nbformat": 4,
 "nbformat_minor": 4
}
